{
 "cells": [
  {
   "cell_type": "markdown",
   "metadata": {},
   "source": [
    "# Pulling COVID-19 Data from the CDC"
   ]
  },
  {
   "cell_type": "markdown",
   "metadata": {},
   "source": [
    "This tutorial shows how to pull data directly from [data.cdc.gov](data.cdc.gov) via python's Socrata package. Socrata is quite a popular tool in the data field. The City of Chicago also uses Socrata to publish data at [data.cityofchicago.org](data.cityofchicago.org).\n",
    "\n",
    "The first thing you'll need is an account. Though you can use the following scripts without a Socrata account, doing so means your data pulls will be throttled. \n",
    "\n",
    "Go to [data.cdc.gov](dta.cdc.gov) and make an account. You can use either a Socrata account or make an account directly with the CDC. After you have an account, you'll want to go into the account settings area and try to create an account token.\n",
    "\n",
    "It is best practice to keep passwords and such outside of your script, and there are ways of doing this (environmental variables, etc), but for our purpose, we will just list them below."
   ]
  },
  {
   "cell_type": "code",
   "execution_count": 1,
   "metadata": {},
   "outputs": [],
   "source": [
    "socrata_email = \"example@email.com\"\n",
    "socrata_password = \"examplePassword\"\n",
    "socrata_token = \"exampleToken\"\n",
    "\n",
    "socrata_email = \"alshivalcavazos@gmail.com\"\n",
    "socrata_password = \"4dragging-2Harmless\"\n",
    "socrata_token = \"NY1I0O22Qyne0inXdqee7ybgM\""
   ]
  },
  {
   "cell_type": "markdown",
   "metadata": {},
   "source": [
    "Next, we load up the Socrata package."
   ]
  },
  {
   "cell_type": "code",
   "execution_count": 2,
   "metadata": {},
   "outputs": [],
   "source": [
    "from sodapy import Socrata"
   ]
  },
  {
   "cell_type": "markdown",
   "metadata": {},
   "source": [
    "Finally, we download the data."
   ]
  },
  {
   "cell_type": "code",
   "execution_count": 3,
   "metadata": {},
   "outputs": [],
   "source": [
    "# Open Socrata client\n",
    "client = Socrata(\"data.cdc.gov\",\n",
    "                 socrata_token,\n",
    "                 username=socrata_email,\n",
    "                 password=socrata_password)\n",
    "# Download the dataset\n",
    "data_raw = client.get(\"9mfq-cb36\",limit = 10000000)"
   ]
  },
  {
   "cell_type": "markdown",
   "metadata": {},
   "source": [
    "As you can see, the data has been downloaded. It is downloaded into a list. Here is the first element of that list."
   ]
  },
  {
   "cell_type": "code",
   "execution_count": 9,
   "metadata": {},
   "outputs": [
    {
     "data": {
      "text/plain": [
       "{'submission_date': '2020-12-08T00:00:00.000',\n",
       " 'state': 'NM',\n",
       " 'tot_cases': '109947',\n",
       " 'new_case': '0.0',\n",
       " 'pnew_case': '0',\n",
       " 'tot_death': '1756',\n",
       " 'new_death': '0.0',\n",
       " 'pnew_death': '0',\n",
       " 'created_at': '2020-12-09T14:45:40.234',\n",
       " 'consent_cases': 'N/A',\n",
       " 'consent_deaths': 'Not agree'}"
      ]
     },
     "execution_count": 9,
     "metadata": {},
     "output_type": "execute_result"
    }
   ],
   "source": [
    "data_raw[0]"
   ]
  },
  {
   "cell_type": "markdown",
   "metadata": {},
   "source": [
    "Personally, I like working with Pandas DataFrame objects. You can convert it quickly as follows:"
   ]
  },
  {
   "cell_type": "code",
   "execution_count": 10,
   "metadata": {},
   "outputs": [
    {
     "data": {
      "text/html": [
       "<div>\n",
       "<style scoped>\n",
       "    .dataframe tbody tr th:only-of-type {\n",
       "        vertical-align: middle;\n",
       "    }\n",
       "\n",
       "    .dataframe tbody tr th {\n",
       "        vertical-align: top;\n",
       "    }\n",
       "\n",
       "    .dataframe thead th {\n",
       "        text-align: right;\n",
       "    }\n",
       "</style>\n",
       "<table border=\"1\" class=\"dataframe\">\n",
       "  <thead>\n",
       "    <tr style=\"text-align: right;\">\n",
       "      <th></th>\n",
       "      <th>submission_date</th>\n",
       "      <th>state</th>\n",
       "      <th>tot_cases</th>\n",
       "      <th>new_case</th>\n",
       "      <th>pnew_case</th>\n",
       "      <th>tot_death</th>\n",
       "      <th>new_death</th>\n",
       "      <th>pnew_death</th>\n",
       "      <th>created_at</th>\n",
       "      <th>consent_cases</th>\n",
       "      <th>consent_deaths</th>\n",
       "      <th>conf_cases</th>\n",
       "      <th>prob_cases</th>\n",
       "      <th>conf_death</th>\n",
       "      <th>prob_death</th>\n",
       "    </tr>\n",
       "  </thead>\n",
       "  <tbody>\n",
       "    <tr>\n",
       "      <th>0</th>\n",
       "      <td>2020-12-08T00:00:00.000</td>\n",
       "      <td>NM</td>\n",
       "      <td>109947</td>\n",
       "      <td>0.0</td>\n",
       "      <td>0</td>\n",
       "      <td>1756</td>\n",
       "      <td>0.0</td>\n",
       "      <td>0</td>\n",
       "      <td>2020-12-09T14:45:40.234</td>\n",
       "      <td>N/A</td>\n",
       "      <td>Not agree</td>\n",
       "      <td>NaN</td>\n",
       "      <td>NaN</td>\n",
       "      <td>NaN</td>\n",
       "      <td>NaN</td>\n",
       "    </tr>\n",
       "    <tr>\n",
       "      <th>1</th>\n",
       "      <td>2021-01-01T00:00:00.000</td>\n",
       "      <td>FL</td>\n",
       "      <td>1300528</td>\n",
       "      <td>0.0</td>\n",
       "      <td>6063</td>\n",
       "      <td>21673</td>\n",
       "      <td>0.0</td>\n",
       "      <td>7</td>\n",
       "      <td>2021-01-02T14:50:51.219</td>\n",
       "      <td>Not agree</td>\n",
       "      <td>Not agree</td>\n",
       "      <td>NaN</td>\n",
       "      <td>NaN</td>\n",
       "      <td>NaN</td>\n",
       "      <td>NaN</td>\n",
       "    </tr>\n",
       "    <tr>\n",
       "      <th>2</th>\n",
       "      <td>2020-04-30T00:00:00.000</td>\n",
       "      <td>IA</td>\n",
       "      <td>7145</td>\n",
       "      <td>302.0</td>\n",
       "      <td>0</td>\n",
       "      <td>162</td>\n",
       "      <td>14.0</td>\n",
       "      <td>0</td>\n",
       "      <td>2020-05-01T21:00:19.025</td>\n",
       "      <td>Not agree</td>\n",
       "      <td>Not agree</td>\n",
       "      <td>NaN</td>\n",
       "      <td>NaN</td>\n",
       "      <td>NaN</td>\n",
       "      <td>NaN</td>\n",
       "    </tr>\n",
       "    <tr>\n",
       "      <th>3</th>\n",
       "      <td>2020-06-25T00:00:00.000</td>\n",
       "      <td>NE</td>\n",
       "      <td>18346</td>\n",
       "      <td>125.0</td>\n",
       "      <td>0</td>\n",
       "      <td>260</td>\n",
       "      <td>3.0</td>\n",
       "      <td>0</td>\n",
       "      <td>2020-06-26T19:18:27.809</td>\n",
       "      <td>Not agree</td>\n",
       "      <td>Not agree</td>\n",
       "      <td>NaN</td>\n",
       "      <td>NaN</td>\n",
       "      <td>NaN</td>\n",
       "      <td>NaN</td>\n",
       "    </tr>\n",
       "    <tr>\n",
       "      <th>4</th>\n",
       "      <td>2020-02-24T00:00:00.000</td>\n",
       "      <td>CA</td>\n",
       "      <td>10</td>\n",
       "      <td>0.0</td>\n",
       "      <td>NaN</td>\n",
       "      <td>0</td>\n",
       "      <td>0.0</td>\n",
       "      <td>NaN</td>\n",
       "      <td>2020-03-26T16:22:39.452</td>\n",
       "      <td>Not agree</td>\n",
       "      <td>Not agree</td>\n",
       "      <td>NaN</td>\n",
       "      <td>NaN</td>\n",
       "      <td>NaN</td>\n",
       "      <td>NaN</td>\n",
       "    </tr>\n",
       "  </tbody>\n",
       "</table>\n",
       "</div>"
      ],
      "text/plain": [
       "           submission_date state tot_cases new_case pnew_case tot_death  \\\n",
       "0  2020-12-08T00:00:00.000    NM    109947      0.0         0      1756   \n",
       "1  2021-01-01T00:00:00.000    FL   1300528      0.0      6063     21673   \n",
       "2  2020-04-30T00:00:00.000    IA      7145    302.0         0       162   \n",
       "3  2020-06-25T00:00:00.000    NE     18346    125.0         0       260   \n",
       "4  2020-02-24T00:00:00.000    CA        10      0.0       NaN         0   \n",
       "\n",
       "  new_death pnew_death               created_at consent_cases consent_deaths  \\\n",
       "0       0.0          0  2020-12-09T14:45:40.234           N/A      Not agree   \n",
       "1       0.0          7  2021-01-02T14:50:51.219     Not agree      Not agree   \n",
       "2      14.0          0  2020-05-01T21:00:19.025     Not agree      Not agree   \n",
       "3       3.0          0  2020-06-26T19:18:27.809     Not agree      Not agree   \n",
       "4       0.0        NaN  2020-03-26T16:22:39.452     Not agree      Not agree   \n",
       "\n",
       "  conf_cases prob_cases conf_death prob_death  \n",
       "0        NaN        NaN        NaN        NaN  \n",
       "1        NaN        NaN        NaN        NaN  \n",
       "2        NaN        NaN        NaN        NaN  \n",
       "3        NaN        NaN        NaN        NaN  \n",
       "4        NaN        NaN        NaN        NaN  "
      ]
     },
     "execution_count": 10,
     "metadata": {},
     "output_type": "execute_result"
    }
   ],
   "source": [
    "import pandas as pd\n",
    "import numpy as np\n",
    "\n",
    "data_df = pd.DataFrame.from_records(data_raw)\n",
    "data_df.head()"
   ]
  },
  {
   "cell_type": "markdown",
   "metadata": {},
   "source": [
    "Here are the `dtypes` for the columns."
   ]
  },
  {
   "cell_type": "code",
   "execution_count": 13,
   "metadata": {},
   "outputs": [
    {
     "data": {
      "text/plain": [
       "submission_date    object\n",
       "state              object\n",
       "tot_cases          object\n",
       "new_case           object\n",
       "pnew_case          object\n",
       "tot_death          object\n",
       "new_death          object\n",
       "pnew_death         object\n",
       "created_at         object\n",
       "consent_cases      object\n",
       "consent_deaths     object\n",
       "conf_cases         object\n",
       "prob_cases         object\n",
       "conf_death         object\n",
       "prob_death         object\n",
       "dtype: object"
      ]
     },
     "execution_count": 13,
     "metadata": {},
     "output_type": "execute_result"
    }
   ],
   "source": [
    "data_df.dtypes"
   ]
  },
  {
   "cell_type": "markdown",
   "metadata": {},
   "source": [
    "As you can see, the columns are all *objects*. If you want `submission_date` to be a date, it can easily be converted. We can also convert `new_death` and `new_case` to numeric."
   ]
  },
  {
   "cell_type": "code",
   "execution_count": 15,
   "metadata": {},
   "outputs": [],
   "source": [
    "# This is to handle dates\n",
    "\n",
    "data_df['submission_date'] = pd.to_datetime(data_df['submission_date'])\n",
    "data_df['new_death'] = pd.to_numeric(data_df['new_death'])\n",
    "data_df['new_case'] = pd.to_numeric(data_df['new_case'])"
   ]
  },
  {
   "cell_type": "markdown",
   "metadata": {},
   "source": [
    "# Visualizing the data"
   ]
  },
  {
   "cell_type": "markdown",
   "metadata": {},
   "source": [
    "Once you have downloaded the data, you can begin creating visualizations. There are lots of visualization packages out there for Python. Because I came from R, I really like the `plotnine` package."
   ]
  },
  {
   "cell_type": "code",
   "execution_count": 11,
   "metadata": {},
   "outputs": [],
   "source": [
    "import plotnine\n",
    "from plotnine import *"
   ]
  },
  {
   "cell_type": "markdown",
   "metadata": {},
   "source": [
    "Here's a simple ggplot of reported deaths in Texas."
   ]
  },
  {
   "cell_type": "code",
   "execution_count": 28,
   "metadata": {},
   "outputs": [
    {
     "data": {
      "image/png": "[encoded data removed]",
      "text/plain": [
       "<Figure size 640x480 with 1 Axes>"
      ]
     },
     "metadata": {
      "needs_background": "light"
     },
     "output_type": "display_data"
    },
    {
     "data": {
      "text/plain": [
       "<ggplot: (130121614605)>"
      ]
     },
     "execution_count": 28,
     "metadata": {},
     "output_type": "execute_result"
    }
   ],
   "source": [
    "p = (ggplot() +\n",
    "     geom_smooth(data_df[data_df['state']=='TX'],aes(x = 'submission_date',y = 'new_death'),method='mavg',method_args={'window':7},se = False) +\n",
    "     labs(title = 'COVID-19 reported deaths - Texas', x = '', y = 'Reported Deaths') +\n",
    "     theme_minimal()\n",
    "    )\n",
    "p"
   ]
  }
 ],
 "metadata": {
  "kernelspec": {
   "display_name": "Python 3",
   "language": "python",
   "name": "python3"
  },
  "language_info": {
   "codemirror_mode": {
    "name": "ipython",
    "version": 3
   },
   "file_extension": ".py",
   "mimetype": "text/x-python",
   "name": "python",
   "nbconvert_exporter": "python",
   "pygments_lexer": "ipython3",
   "version": "3.8.3"
  }
 },
 "nbformat": 4,
 "nbformat_minor": 4
}
